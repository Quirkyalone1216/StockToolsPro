{
 "cells": [
  {
   "cell_type": "code",
   "execution_count": 1,
   "id": "189a7f0b-d61c-44ac-8c56-50ac1d8bbb8e",
   "metadata": {},
   "outputs": [
    {
     "name": "stdout",
     "output_type": "stream",
     "text": [
      "Current working directory: /home/kenchen1216/StockTools/US_Stock\n"
     ]
    }
   ],
   "source": [
    "import os\n",
    "\n",
    "current_working_directory = os.getcwd()\n",
    "\n",
    "print(\"Current working directory:\", current_working_directory)"
   ]
  },
  {
   "cell_type": "code",
   "execution_count": null,
   "id": "a70585a6-feda-42b1-97c7-9fa3f5f062ad",
   "metadata": {},
   "outputs": [],
   "source": [
    "美股數據處理\n",
    "功能從Function資料夾呼叫"
   ]
  },
  {
   "cell_type": "code",
   "execution_count": 1,
   "id": "027818cf-006e-4eff-8aba-777b0387478c",
   "metadata": {},
   "outputs": [],
   "source": [
    "from Function.Timezone2Date import Timezone2Date\n",
    "from Function.MergeOriginCSV import MergeOriginCSV\n",
    "from Function.DropColumns import DropColumns\n",
    "from Function.FeaturesProcess import FeaturesProcess\n",
    "from Function.TrainDataSplit import TrainDataSplit\n",
    "\n",
    "\n",
    "stock_data_dir = '/home/kenchen1216/StockTools/US_Stock/StockData'\n",
    "sort_result_dir = '/home/kenchen1216/StockTools/US_Stock/sort_result'\n",
    "merged_data_dir = '/home/kenchen1216/StockTools/US_Stock/MergedData/'\n",
    "train_data_dir = '/home/kenchen1216/StockTools/US_Stock/TrainData'\n",
    "features_data_dir = '/home/kenchen1216/StockTools/US_Stock/ProcessData'\n",
    "region = 'US'\n",
    "window = 2\n",
    "\n",
    "#Timezone2Date(stock_data_dir)\n",
    "#MergeOriginCSV(sort_result_dir, stock_data_dir, merged_data_dir, region)\n",
    "#DropColumns(merged_data_dir, train_data_dir, region)\n",
    "FeaturesProcess(train_data_dir, features_data_dir, window)\n",
    "TrainDataSplit(features_data_dir, 650, features_data_dir)\n"
   ]
  },
  {
   "cell_type": "code",
   "execution_count": null,
   "id": "7f2507dd-b420-4d47-8b03-ea772fb0d3ce",
   "metadata": {},
   "outputs": [],
   "source": [
    "台股數據處理\n",
    "功能從Function資料夾呼叫"
   ]
  },
  {
   "cell_type": "code",
   "execution_count": 1,
   "id": "5bc4c293-51c8-4c14-ad47-52dd52718999",
   "metadata": {},
   "outputs": [
    {
     "name": "stdout",
     "output_type": "stream",
     "text": [
      "Data merging completed. Merged files are saved in /home/kenchen1216/StockTools/US_Stock/TW_MergedData/\n"
     ]
    }
   ],
   "source": [
    "from Function.Timezone2Date import Timezone2Date\n",
    "from Function.MergeOriginCSV import MergeOriginCSV\n",
    "from Function.DropColumns import DropColumns\n",
    "from Function.FeaturesProcess import FeaturesProcess\n",
    "from Function.TrainDataSplit import TrainDataSplit\n",
    "\n",
    "\n",
    "stock_data_dir = '/home/kenchen1216/StockTools/US_Stock/TWStockData'\n",
    "sort_result_dir = '/home/kenchen1216/StockTools/US_Stock/TW_sort_result'\n",
    "merged_data_dir = '/home/kenchen1216/StockTools/US_Stock/TW_MergedData/'\n",
    "train_data_dir = '/home/kenchen1216/StockTools/US_Stock/ValidData'\n",
    "features_data_dir = '/home/kenchen1216/StockTools/US_Stock/TWVaildData'\n",
    "region = 'TW'\n",
    "window = 3\n",
    "\n",
    "#MergeOriginCSV(sort_result_dir, stock_data_dir, merged_data_dir, region)\n",
    "#DropColumns(merged_data_dir, train_data_dir, region)\n",
    "#FeaturesProcess(train_data_dir, features_data_dir, window)"
   ]
  }
 ],
 "metadata": {
  "kernelspec": {
   "display_name": "Python 3 (ipykernel)",
   "language": "python",
   "name": "python3"
  },
  "language_info": {
   "codemirror_mode": {
    "name": "ipython",
    "version": 3
   },
   "file_extension": ".py",
   "mimetype": "text/x-python",
   "name": "python",
   "nbconvert_exporter": "python",
   "pygments_lexer": "ipython3",
   "version": "3.9.18"
  }
 },
 "nbformat": 4,
 "nbformat_minor": 5
}

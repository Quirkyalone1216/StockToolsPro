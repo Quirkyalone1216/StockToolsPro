{
 "cells": [
  {
   "cell_type": "code",
   "execution_count": 1,
   "id": "189a7f0b-d61c-44ac-8c56-50ac1d8bbb8e",
   "metadata": {},
   "outputs": [
    {
     "name": "stdout",
     "output_type": "stream",
     "text": [
      "Current working directory: /home/kenchen1216/StockTools/US_Stock\n"
     ]
    }
   ],
   "source": [
    "import os\n",
    "\n",
    "current_working_directory = os.getcwd()\n",
    "\n",
    "print(\"Current working directory:\", current_working_directory)"
   ]
  },
  {
   "cell_type": "code",
   "execution_count": 1,
   "id": "081be9d4-8cca-4276-a441-b1c7912e7a3d",
   "metadata": {},
   "outputs": [],
   "source": [
    "from Function.Timezone2Date import Timezone2Date\n",
    "from Rapids_Ver.MergeOriginCSV import MergeOriginCSV\n",
    "from Rapids_Ver.DropColumns import DropColumns\n",
    "from Function.FeaturesProcess import FeaturesProcess\n",
    "from Function.TrainDataSplit import TrainDataSplit\n",
    "\n",
    "\n",
    "stock_data_dir = '/home/kenchen1216/StockTools/US_Stock/StockData'\n",
    "sort_result_dir = '/home/kenchen1216/StockTools/US_Stock/sort_result'\n",
    "merged_data_dir = '/home/kenchen1216/StockTools/US_Stock/MergedData/'\n",
    "train_data_dir = '/home/kenchen1216/StockTools/US_Stock/TrainData'\n",
    "features_data_dir = '/home/kenchen1216/StockTools/US_Stock/ProcessData'\n",
    "region = 'US'\n",
    "window = 2\n",
    "\n",
    "#Timezone2Date(stock_data_dir)\n",
    "#MergeOriginCSV(sort_result_dir, stock_data_dir, merged_data_dir, region)\n",
    "#DropColumns(merged_data_dir, train_data_dir, region)\n",
    "FeaturesProcess(train_data_dir, features_data_dir, window)\n",
    "TrainDataSplit(features_data_dir, 650, features_data_dir)"
   ]
  },
  {
   "cell_type": "code",
   "execution_count": null,
   "id": "42f41678-4065-4681-b275-0d45ac905706",
   "metadata": {},
   "outputs": [],
   "source": []
  }
 ],
 "metadata": {
  "kernelspec": {
   "display_name": "Python 3 (ipykernel)",
   "language": "python",
   "name": "python3"
  },
  "language_info": {
   "codemirror_mode": {
    "name": "ipython",
    "version": 3
   },
   "file_extension": ".py",
   "mimetype": "text/x-python",
   "name": "python",
   "nbconvert_exporter": "python",
   "pygments_lexer": "ipython3",
   "version": "3.9.18"
  }
 },
 "nbformat": 4,
 "nbformat_minor": 5
}
